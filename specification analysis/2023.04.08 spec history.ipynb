{
 "cells": [
  {
   "cell_type": "code",
   "execution_count": 1,
   "id": "797c03b0",
   "metadata": {},
   "outputs": [],
   "source": [
    "from selenium.webdriver.chrome.service import Service\n",
    "from selenium.webdriver.common.by import By\n",
    "from selenium.webdriver.common.keys import Keys\n",
    "from webdriver_manager.chrome import ChromeDriverManager\n",
    "from selenium.webdriver.support.ui import Select\n",
    "from selenium import webdriver\n",
    "import time\n",
    "import pandas as pd\n",
    "import openpyxl\n",
    "import re\n",
    "\n",
    "# web: https://portal.3gpp.org/Specifications.aspx\n",
    "# date: 2023/4/8"
   ]
  },
  {
   "cell_type": "markdown",
   "id": "f0603878",
   "metadata": {},
   "source": [
    "### 1. 下載spec的history資料"
   ]
  },
  {
   "cell_type": "code",
   "execution_count": 2,
   "id": "e7891735",
   "metadata": {},
   "outputs": [],
   "source": [
    "df = pd.read_excel(\"reference/Work_plan_3gpp_230110.xlsm\")\n",
    "SpecificationList_df = pd.read_excel(\"reference/2023-03-07_1805_SpecificationList_2e6c4e.xlsx\")\n",
    "ws = openpyxl.load_workbook('reference/2023-03-07_1805_SpecificationList_2e6c4e.xlsx')['Specifications']\n",
    "\n",
    "histories = {}"
   ]
  },
  {
   "cell_type": "code",
   "execution_count": 7,
   "id": "e8e8511b",
   "metadata": {},
   "outputs": [],
   "source": [
    "def get_spec_history(spec_link):\n",
    "    driver.get(spec_link)\n",
    "    time.sleep(0.5)\n",
    "    \n",
    "    record_elements = driver.find_elements(By.XPATH, \"//*[@id='specificationHistory_historyTable_ctl00']//tbody//tr\")\n",
    "    \n",
    "    edit_dates = []\n",
    "    pre_rapporteur = []\n",
    "    new_rapporteur = []\n",
    "\n",
    "    for i in record_elements:\n",
    "        if i.get_attribute('class') != 'rgNoRecords':\n",
    "            try:\n",
    "                edit_dates.append(i.find_elements(By.XPATH, \"td\")[0].text.split(' ')[0])\n",
    "                pre_rapporteur.append(i.find_elements(By.XPATH, \"td\")[1].text.split(': ')[1].strip())\n",
    "                new_rapporteur.append(i.find_elements(By.XPATH, \"td\")[1].text.replace('to', '.').split(\".\")[1].strip())\n",
    "            except:\n",
    "                pass\n",
    "    \n",
    "    return {\n",
    "        'date': edit_dates,\n",
    "        'previous rapporteur': pre_rapporteur,\n",
    "        'new rapporteur': new_rapporteur\n",
    "    }"
   ]
  },
  {
   "cell_type": "code",
   "execution_count": 10,
   "id": "0c091480",
   "metadata": {},
   "outputs": [],
   "source": [
    "driver = webdriver.Chrome(ChromeDriverManager().install())\n",
    "\n",
    "for i in range(1, ws.max_row - 1):\n",
    "    cur_spec = ws.cell(1 + i, 1)\n",
    "    if cur_spec.value not in histories.keys():\n",
    "        histories[cur_spec.value] = get_spec_history(cur_spec.hyperlink.target)"
   ]
  },
  {
   "cell_type": "markdown",
   "id": "0328997a",
   "metadata": {},
   "source": [
    "### 2. 整理成dataframe"
   ]
  },
  {
   "cell_type": "code",
   "execution_count": 55,
   "id": "a96d0420",
   "metadata": {},
   "outputs": [],
   "source": [
    "output_df = pd.DataFrame()\n",
    "\n",
    "for spec, his in histories.items():\n",
    "    if his['date'] != []:\n",
    "        for i in range(len(his['date'])):\n",
    "            try:\n",
    "                his_dict = pd.DataFrame({\n",
    "                    'spec': spec,\n",
    "                    'data': his['date'][i],\n",
    "                    'previous rapporteur': his['previous rapporteur'][i],\n",
    "                    'new rapporteur': his['new rapporteur'][i]\n",
    "                }, index=[0])\n",
    "            except:\n",
    "                pass\n",
    "            else:\n",
    "                output_df = pd.concat([output_df, his_dict], axis=0, ignore_index=True)"
   ]
  },
  {
   "cell_type": "code",
   "execution_count": 62,
   "id": "9587c016",
   "metadata": {},
   "outputs": [],
   "source": [
    "output_df.replace('(none)', None, regex=True, inplace=True)\n",
    "output_df.dropna(inplace=True)\n",
    "output_df.to_excel('history_result.xlsx', encoding='utf_8_sig', index=False)"
   ]
  }
 ],
 "metadata": {
  "kernelspec": {
   "display_name": "Python 3 (ipykernel)",
   "language": "python",
   "name": "python3"
  },
  "language_info": {
   "codemirror_mode": {
    "name": "ipython",
    "version": 3
   },
   "file_extension": ".py",
   "mimetype": "text/x-python",
   "name": "python",
   "nbconvert_exporter": "python",
   "pygments_lexer": "ipython3",
   "version": "3.10.9"
  }
 },
 "nbformat": 4,
 "nbformat_minor": 5
}
