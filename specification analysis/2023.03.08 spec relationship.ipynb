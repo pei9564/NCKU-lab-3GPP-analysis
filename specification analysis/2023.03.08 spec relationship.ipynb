{
 "cells": [
  {
   "cell_type": "code",
   "execution_count": 1,
   "id": "913bc0d6",
   "metadata": {},
   "outputs": [],
   "source": [
    "from selenium.webdriver.chrome.service import Service\n",
    "from selenium.webdriver.common.by import By\n",
    "from selenium.webdriver.common.keys import Keys\n",
    "from webdriver_manager.chrome import ChromeDriverManager\n",
    "from selenium.webdriver.support.ui import Select\n",
    "from selenium import webdriver\n",
    "import matplotlib.pyplot as plt\n",
    "import time\n",
    "import pandas as pd\n",
    "import openpyxl\n",
    "import os\n",
    "import seaborn as sns\n",
    "import plotly.express as px\n",
    "import re\n",
    "\n",
    "# web: https://portal.3gpp.org/Specifications.aspx\n",
    "# date: 2023/3/8"
   ]
  },
  {
   "cell_type": "markdown",
   "id": "1941d0ba",
   "metadata": {},
   "source": [
    "### 1. 下載spec的parent-children關係 "
   ]
  },
  {
   "cell_type": "code",
   "execution_count": null,
   "id": "d439c0f3",
   "metadata": {},
   "outputs": [],
   "source": [
    "df = pd.read_excel(\"reference/Work_plan_3gpp_230110.xlsm\")\n",
    "SpecificationList_df = pd.read_excel(\"reference/2023-03-07_1805_SpecificationList_2e6c4e.xlsx\")\n",
    "ws = openpyxl.load_workbook('reference/2023-03-07_1805_SpecificationList_2e6c4e.xlsx')['Specifications']\n",
    "\n",
    "relationships = {}"
   ]
  },
  {
   "cell_type": "code",
   "execution_count": 3,
   "id": "939f40fc",
   "metadata": {},
   "outputs": [],
   "source": [
    "def get_spec_relationship(spec_link):\n",
    "    driver.get(spec_link)\n",
    "    time.sleep(0.5)\n",
    "    related_btn = driver.find_elements(By.XPATH, '//*[@class=\"rtsTxt\"]')[3]     \n",
    "    related_btn.click()\n",
    "    \n",
    "    p_elements = driver.find_elements(By.XPATH, \"//*[@id='parentSpecifications_specificationsGrid_ctl00']//tbody//tr\")\n",
    "    c_elements = driver.find_elements(By.XPATH, \"//*[@id='childSpecifications_specificationsGrid_ctl00']//tbody//tr\")\n",
    "    \n",
    "    parents = []\n",
    "    children = []\n",
    "\n",
    "    for i in p_elements:\n",
    "        if i.get_attribute('class') != 'rgNoRecords':\n",
    "            parents.append(i.find_elements(By.XPATH, \"td\")[0].text)\n",
    "\n",
    "    for i in c_elements:\n",
    "        if i.get_attribute('class') != 'rgNoRecords':\n",
    "            children.append(i.find_elements(By.XPATH, \"td\")[0].text)\n",
    "    \n",
    "    return {\n",
    "        'parents': parents,\n",
    "        'children': children\n",
    "    }"
   ]
  },
  {
   "cell_type": "code",
   "execution_count": 17,
   "id": "6293fc8a",
   "metadata": {
    "scrolled": true
   },
   "outputs": [],
   "source": [
    "driver = webdriver.Chrome(ChromeDriverManager().install())\n",
    "\n",
    "\n",
    "for i in range(1, ws.max_row - 1):\n",
    "    cur_spec = ws.cell(1 + i, 1)\n",
    "    if cur_spec.value not in relationships.keys():\n",
    "        relationships[cur_spec.value] = get_spec_relationship(cur_spec.hyperlink.target)"
   ]
  },
  {
   "cell_type": "code",
   "execution_count": 1,
   "id": "f14be6ab",
   "metadata": {},
   "outputs": [],
   "source": [
    "df = pd.DataFrame.from_dict(relationships, orient='index')\n",
    "df.to_excel('relationship_result.xlsx', encoding='utf_8_sig', index=True)"
   ]
  },
  {
   "cell_type": "markdown",
   "id": "42503ba4",
   "metadata": {},
   "source": [
    "### 2. 整理表格－parents table & children table"
   ]
  },
  {
   "cell_type": "code",
   "execution_count": 2,
   "id": "e069ea0e",
   "metadata": {},
   "outputs": [],
   "source": [
    "rl_data = pd.read_excel(\"relationship_result.xlsx\")"
   ]
  },
  {
   "cell_type": "code",
   "execution_count": 3,
   "id": "2202ceae",
   "metadata": {},
   "outputs": [
    {
     "name": "stdout",
     "output_type": "stream",
     "text": [
      "Length of parents only:  4198 ; Length of children only:  4251\n"
     ]
    }
   ],
   "source": [
    "rl_data.replace(r\"[\\'\\[\\]]\", '', regex=True, inplace=True)\n",
    "rl_data.rename(columns={'Unnamed: 0': 'spec'}, inplace=True)\n",
    "\n",
    "p_only = rl_data.assign(parents=rl_data.parents.str.split(\", \")).explode(\"parents\").drop(columns=['children'])\n",
    "c_only = rl_data.assign(children=rl_data.children.str.split(\", \")).explode(\"children\").drop(columns=['parents'])\n",
    "print('Length of parents only: ', len(p_only), '; Length of children only: ', len(c_only),)"
   ]
  },
  {
   "cell_type": "code",
   "execution_count": 4,
   "id": "a651364b",
   "metadata": {},
   "outputs": [
    {
     "name": "stderr",
     "output_type": "stream",
     "text": [
      "C:\\Users\\Penny\\anaconda3\\lib\\site-packages\\pandas\\util\\_decorators.py:211: FutureWarning: the 'encoding' keyword is deprecated and will be removed in a future version. Please take steps to stop the use of 'encoding'\n",
      "  return func(*args, **kwargs)\n"
     ]
    }
   ],
   "source": [
    "c_only.to_excel('relationship_result_children_only.xlsx', encoding='utf_8_sig', index=False)\n",
    "p_only.to_excel('relationship_result_parents_only.xlsx', encoding='utf_8_sig', index=False)"
   ]
  },
  {
   "cell_type": "code",
   "execution_count": 5,
   "id": "1d1242c1",
   "metadata": {},
   "outputs": [],
   "source": [
    "# 合併children_only & parents_only之後刪除重複值\n",
    "rl_data = pd.read_excel(\"relationship_result_cleaned.xlsx\")\n",
    "rl_data.drop_duplicates(inplace=True)\n",
    "rl_data.to_excel('relationship_result_cleaned.xlsx', encoding='utf_8_sig', index=False)"
   ]
  },
  {
   "cell_type": "markdown",
   "id": "6394a8f2",
   "metadata": {},
   "source": [
    "### 3. 將spec關係轉換成公司名稱呈現"
   ]
  },
  {
   "cell_type": "code",
   "execution_count": 3,
   "id": "d353f692",
   "metadata": {},
   "outputs": [],
   "source": [
    "child_df = pd.read_excel(\"relationship_result_children_only.xlsx\")\n",
    "spec_df = pd.read_excel(\"reference/spec_result_all_cleaned.xlsx\")"
   ]
  },
  {
   "cell_type": "code",
   "execution_count": 50,
   "id": "ac399357",
   "metadata": {
    "scrolled": true
   },
   "outputs": [
    {
     "data": {
      "text/html": [
       "<div>\n",
       "<style scoped>\n",
       "    .dataframe tbody tr th:only-of-type {\n",
       "        vertical-align: middle;\n",
       "    }\n",
       "\n",
       "    .dataframe tbody tr th {\n",
       "        vertical-align: top;\n",
       "    }\n",
       "\n",
       "    .dataframe thead th {\n",
       "        text-align: right;\n",
       "    }\n",
       "</style>\n",
       "<table border=\"1\" class=\"dataframe\">\n",
       "  <thead>\n",
       "    <tr style=\"text-align: right;\">\n",
       "      <th></th>\n",
       "      <th>parent</th>\n",
       "      <th>children</th>\n",
       "    </tr>\n",
       "  </thead>\n",
       "  <tbody>\n",
       "    <tr>\n",
       "      <th>0</th>\n",
       "      <td>00.01U</td>\n",
       "      <td>NaN</td>\n",
       "    </tr>\n",
       "    <tr>\n",
       "      <th>1</th>\n",
       "      <td>00.02</td>\n",
       "      <td>NaN</td>\n",
       "    </tr>\n",
       "    <tr>\n",
       "      <th>2</th>\n",
       "      <td>00.02U</td>\n",
       "      <td>NaN</td>\n",
       "    </tr>\n",
       "    <tr>\n",
       "      <th>3</th>\n",
       "      <td>01.00</td>\n",
       "      <td>21.801</td>\n",
       "    </tr>\n",
       "    <tr>\n",
       "      <th>4</th>\n",
       "      <td>01.00</td>\n",
       "      <td>21.100</td>\n",
       "    </tr>\n",
       "    <tr>\n",
       "      <th>...</th>\n",
       "      <td>...</td>\n",
       "      <td>...</td>\n",
       "    </tr>\n",
       "    <tr>\n",
       "      <th>4246</th>\n",
       "      <td>TBR 5</td>\n",
       "      <td>NaN</td>\n",
       "    </tr>\n",
       "    <tr>\n",
       "      <th>4247</th>\n",
       "      <td>TBR 9</td>\n",
       "      <td>NaN</td>\n",
       "    </tr>\n",
       "    <tr>\n",
       "      <th>4248</th>\n",
       "      <td>TBR19</td>\n",
       "      <td>NaN</td>\n",
       "    </tr>\n",
       "    <tr>\n",
       "      <th>4249</th>\n",
       "      <td>TBR20</td>\n",
       "      <td>NaN</td>\n",
       "    </tr>\n",
       "    <tr>\n",
       "      <th>4250</th>\n",
       "      <td>TBR31</td>\n",
       "      <td>NaN</td>\n",
       "    </tr>\n",
       "  </tbody>\n",
       "</table>\n",
       "<p>4251 rows × 2 columns</p>\n",
       "</div>"
      ],
      "text/plain": [
       "      parent children\n",
       "0     00.01U      NaN\n",
       "1      00.02      NaN\n",
       "2     00.02U      NaN\n",
       "3      01.00   21.801\n",
       "4      01.00   21.100\n",
       "...      ...      ...\n",
       "4246   TBR 5      NaN\n",
       "4247   TBR 9      NaN\n",
       "4248   TBR19      NaN\n",
       "4249   TBR20      NaN\n",
       "4250   TBR31      NaN\n",
       "\n",
       "[4251 rows x 2 columns]"
      ]
     },
     "execution_count": 50,
     "metadata": {},
     "output_type": "execute_result"
    }
   ],
   "source": [
    "child_df"
   ]
  },
  {
   "cell_type": "code",
   "execution_count": 70,
   "id": "e36c3145",
   "metadata": {
    "scrolled": false
   },
   "outputs": [],
   "source": [
    "spec_by_company = pd.DataFrame()\n",
    "\n",
    "for index, row in child_df.iterrows():\n",
    "    if not pd.isna(row['children']):\n",
    "#         print(spec_df.loc[spec_df['Spec No'] == row['children']]['Primary rapporteur company'])\n",
    "        try:\n",
    "            parent_cmp = spec_df.loc[spec_df['Spec No'] == row['parent']]['Primary rapporteur company'].values[0]\n",
    "        except:\n",
    "            parent_cmp = ''\n",
    "        try:\n",
    "            child_cmp = spec_df.loc[spec_df['Spec No'] == row['children']]['Primary rapporteur company'].values[0]\n",
    "        except:\n",
    "            child_cmp = ''\n",
    "\n",
    "        if parent_cmp != 'waiting for new company' and child_cmp != 'waiting for new company':\n",
    "            result_row = pd.DataFrame({\n",
    "                'parent': parent_cmp,\n",
    "                'children': child_cmp,\n",
    "            }, index=[0])\n",
    "            spec_by_company = pd.concat([spec_by_company, result_row], axis=0)"
   ]
  },
  {
   "cell_type": "code",
   "execution_count": 71,
   "id": "bbe63f71",
   "metadata": {
    "scrolled": false
   },
   "outputs": [
    {
     "data": {
      "text/html": [
       "<div>\n",
       "<style scoped>\n",
       "    .dataframe tbody tr th:only-of-type {\n",
       "        vertical-align: middle;\n",
       "    }\n",
       "\n",
       "    .dataframe tbody tr th {\n",
       "        vertical-align: top;\n",
       "    }\n",
       "\n",
       "    .dataframe thead th {\n",
       "        text-align: right;\n",
       "    }\n",
       "</style>\n",
       "<table border=\"1\" class=\"dataframe\">\n",
       "  <thead>\n",
       "    <tr style=\"text-align: right;\">\n",
       "      <th></th>\n",
       "      <th>parent</th>\n",
       "      <th>children</th>\n",
       "    </tr>\n",
       "  </thead>\n",
       "  <tbody>\n",
       "    <tr>\n",
       "      <th>0</th>\n",
       "      <td>hillebrand gmbh</td>\n",
       "      <td>etsi</td>\n",
       "    </tr>\n",
       "    <tr>\n",
       "      <th>0</th>\n",
       "      <td>hillebrand gmbh</td>\n",
       "      <td>etsi</td>\n",
       "    </tr>\n",
       "    <tr>\n",
       "      <th>0</th>\n",
       "      <td>etsi</td>\n",
       "      <td>etsi</td>\n",
       "    </tr>\n",
       "    <tr>\n",
       "      <th>0</th>\n",
       "      <td>etsi</td>\n",
       "      <td>etsi</td>\n",
       "    </tr>\n",
       "    <tr>\n",
       "      <th>0</th>\n",
       "      <td>home office</td>\n",
       "      <td>etsi</td>\n",
       "    </tr>\n",
       "    <tr>\n",
       "      <th>...</th>\n",
       "      <td>...</td>\n",
       "      <td>...</td>\n",
       "    </tr>\n",
       "    <tr>\n",
       "      <th>0</th>\n",
       "      <td>etsi</td>\n",
       "      <td>etsi</td>\n",
       "    </tr>\n",
       "    <tr>\n",
       "      <th>0</th>\n",
       "      <td>gemalto n.v.</td>\n",
       "      <td>g+d ms</td>\n",
       "    </tr>\n",
       "    <tr>\n",
       "      <th>0</th>\n",
       "      <td>gemalto n.v.</td>\n",
       "      <td>qualcomm</td>\n",
       "    </tr>\n",
       "    <tr>\n",
       "      <th>0</th>\n",
       "      <td>morpho cards gmbh</td>\n",
       "      <td>morpho cards gmbh</td>\n",
       "    </tr>\n",
       "    <tr>\n",
       "      <th>0</th>\n",
       "      <td>ericsson</td>\n",
       "      <td>nec</td>\n",
       "    </tr>\n",
       "  </tbody>\n",
       "</table>\n",
       "<p>828 rows × 2 columns</p>\n",
       "</div>"
      ],
      "text/plain": [
       "               parent           children\n",
       "0     hillebrand gmbh               etsi\n",
       "0     hillebrand gmbh               etsi\n",
       "0                etsi               etsi\n",
       "0                etsi               etsi\n",
       "0         home office               etsi\n",
       "..                ...                ...\n",
       "0                etsi               etsi\n",
       "0        gemalto n.v.             g+d ms\n",
       "0        gemalto n.v.           qualcomm\n",
       "0   morpho cards gmbh  morpho cards gmbh\n",
       "0            ericsson                nec\n",
       "\n",
       "[828 rows x 2 columns]"
      ]
     },
     "execution_count": 71,
     "metadata": {},
     "output_type": "execute_result"
    }
   ],
   "source": [
    "spec_by_company"
   ]
  },
  {
   "cell_type": "code",
   "execution_count": 73,
   "id": "0e83fccd",
   "metadata": {},
   "outputs": [],
   "source": [
    "spec_by_company.to_excel('relationship_by_company.xlsx', encoding='utf_8_sig', index=False)"
   ]
  }
 ],
 "metadata": {
  "kernelspec": {
   "display_name": "Python 3 (ipykernel)",
   "language": "python",
   "name": "python3"
  },
  "language_info": {
   "codemirror_mode": {
    "name": "ipython",
    "version": 3
   },
   "file_extension": ".py",
   "mimetype": "text/x-python",
   "name": "python",
   "nbconvert_exporter": "python",
   "pygments_lexer": "ipython3",
   "version": "3.10.9"
  }
 },
 "nbformat": 4,
 "nbformat_minor": 5
}
