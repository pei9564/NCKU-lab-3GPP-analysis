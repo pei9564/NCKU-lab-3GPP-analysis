{
 "cells": [
  {
   "cell_type": "code",
   "execution_count": 1,
   "id": "bb3c82f0",
   "metadata": {},
   "outputs": [],
   "source": [
    "import openpyxl\n",
    "import pandas as pd\n",
    "import os\n",
    "import re\n",
    "import json\n",
    "\n",
    "overview_df = pd.read_excel(\"wi_overview_cleaned.xlsx\")\n",
    "overview_df['rapporteur'] = overview_df['rapporteur'].str.lower()\n",
    "supporter_df = pd.read_excel(\"supporter_overview.xlsx\")\n",
    "supporter_df['rapporteur'] = supporter_df['rapporteur'].str.lower()\n",
    "all_wi_df = pd.read_excel(\"Work_plan_3gpp_230110.xlsm\")\n",
    "# new_crawl = pd.read_excel(\"new_crawl.xlsx\")\n",
    "# obser_company_df = pd.read_excel(\"company_overview.xlsx\")\n",
    "# dyad_df = pd.read_excel(\"all_supporting_12_to_18.xlsx\")\n",
    "# date: 2023/2/19"
   ]
  },
  {
   "cell_type": "code",
   "execution_count": 2,
   "id": "832f6b5f",
   "metadata": {},
   "outputs": [],
   "source": [
    "# create dictionary need_replace from replace_name.ipynb\n",
    "\n",
    "with open('replace_name.ipynb', 'r') as file:\n",
    "    notebook_data = json.load(file)\n",
    "    \n",
    "cell = notebook_data['cells'][0]\n",
    "code = cell['source']\n",
    "exec(''.join(code))"
   ]
  },
  {
   "cell_type": "markdown",
   "id": "c1d6fc78",
   "metadata": {},
   "source": [
    "## 1.  整理supporting member表格"
   ]
  },
  {
   "cell_type": "code",
   "execution_count": 8,
   "id": "1f6962a1",
   "metadata": {},
   "outputs": [],
   "source": [
    "all_wi_df[all_wi_df.Unique_ID == 920039]\n",
    "\n",
    "print('沒有顯示在supporter overview當中的work item')\n",
    "for index, row in supporter_df.iterrows():\n",
    "    if row['unique_ID'] not in list(all_wi_df['Unique_ID']):\n",
    "        print(row['unique_ID'])\n"
   ]
  },
  {
   "cell_type": "code",
   "execution_count": 1,
   "id": "5b8bbcd1",
   "metadata": {},
   "outputs": [],
   "source": [
    "target_rel = ['Rel-12', 'Rel-13', 'Rel-14', 'Rel-15', 'Rel-16','Rel-17', 'Rel-18']\n",
    "dyad_df = pd.DataFrame()\n",
    "\n",
    "none_data = []\n",
    "\n",
    "for index, row in all_wi_df.iterrows():\n",
    "    if row['Unique_ID'] != 0 and row['Unique_ID'] != 'nan' and row['Release'] in target_rel:\n",
    "        if row['Unique_ID'] in list(supporter_df['unique_ID']):\n",
    "            dyad_df = pd.concat([dyad_df, supporter_df[supporter_df.unique_ID == row['Unique_ID']][['unique_ID', 'release','ran','rapporteur','supporting member']]])\n",
    "        \n",
    "        elif row['Unique_ID'] not in list(supporter_df['unique_ID']):\n",
    "            parent_wi = [wi for wi in list(all_wi_df[all_wi_df.Hyperlink == row['Hyperlink']].Unique_ID) if wi in list(supporter_df['unique_ID'])]\n",
    "            \n",
    "            if row['Hyperlink'] == '-' or len(row['Hyperlink']) > 10 or len(parent_wi) == 0:\n",
    "                simple_df = pd.DataFrame({\n",
    "                    'unique_ID':row['Unique_ID'],\n",
    "                    'release': row['Release'],\n",
    "                    'ran':overview_df[overview_df.Unique_ID == row['Unique_ID']]['TSG-RAN'],\n",
    "                    'rapporteur':overview_df[overview_df.Unique_ID == row['Unique_ID']]['rapporteur']\n",
    "                })\n",
    "                dyad_df = pd.concat([dyad_df, simple_df]) \n",
    "            \n",
    "            elif len(parent_wi) == 1:\n",
    "                copy_data = supporter_df[supporter_df.unique_ID == parent_wi[0]][['rapporteur','supporting member']]\n",
    "                copy_data.insert(0, 'ran', overview_df[overview_df.Unique_ID == row['Unique_ID']]['TSG-RAN'].item())\n",
    "                copy_data.insert(0, 'release', row['Release'])\n",
    "                copy_data.insert(0, 'unique_ID', row['Unique_ID'])\n",
    "                dyad_df = pd.concat([dyad_df, copy_data])\n",
    "\n",
    "            elif len(parent_wi) > 1:\n",
    "#                 print(f\"=========={row['Unique_ID']}============\")\n",
    "                for wi in parent_wi:\n",
    "                    if overview_df[overview_df.Unique_ID == row['Unique_ID']]['rapporteur'].item() == overview_df[overview_df.Unique_ID == wi]['rapporteur'].item():\n",
    "#                         print(f\"{row['Unique_ID']} == {wi}\")\n",
    "                        copy_data = supporter_df[supporter_df.unique_ID == wi][['rapporteur','supporting member']]\n",
    "                        display(copy_data)\n",
    "                        copy_data.insert(0, 'ran', overview_df[overview_df.Unique_ID == row['Unique_ID']]['TSG-RAN'].item())\n",
    "                        copy_data.insert(0, 'release', row['Release'])\n",
    "                        copy_data.insert(0, 'unique_ID', row['Unique_ID'])\n",
    "                        dyad_df = pd.concat([dyad_df, copy_data])                                           \n",
    "                        break"
   ]
  },
  {
   "cell_type": "code",
   "execution_count": 20,
   "id": "ad88f33c",
   "metadata": {},
   "outputs": [
    {
     "name": "stderr",
     "output_type": "stream",
     "text": [
      "C:\\Users\\Penny\\anaconda3\\lib\\site-packages\\pandas\\util\\_decorators.py:211: FutureWarning: the 'encoding' keyword is deprecated and will be removed in a future version. Please take steps to stop the use of 'encoding'\n",
      "  return func(*args, **kwargs)\n"
     ]
    }
   ],
   "source": [
    "dyad_df\n",
    "dyad_df.to_excel('all_supporting_12_to_18.xlsx', encoding='utf_8_sig', index=False)"
   ]
  },
  {
   "cell_type": "code",
   "execution_count": 68,
   "id": "4b4f932e",
   "metadata": {
    "scrolled": false
   },
   "outputs": [],
   "source": [
    "for index, row in all_wi_df.iterrows():\n",
    "    if row['Release'] in target_rel and row['Unique_ID'] not in list(dyad_df['unique_ID']) and row['Unique_ID'] != 0 :\n",
    "        print(row['Unique_ID'])"
   ]
  },
  {
   "cell_type": "markdown",
   "id": "b7a1c829",
   "metadata": {},
   "source": [
    "## 2. 統一WI表格中WIR與SUP企業名稱"
   ]
  },
  {
   "cell_type": "code",
   "execution_count": 5,
   "id": "69b727c3",
   "metadata": {
    "scrolled": true
   },
   "outputs": [
    {
     "data": {
      "text/html": [
       "<div>\n",
       "<style scoped>\n",
       "    .dataframe tbody tr th:only-of-type {\n",
       "        vertical-align: middle;\n",
       "    }\n",
       "\n",
       "    .dataframe tbody tr th {\n",
       "        vertical-align: top;\n",
       "    }\n",
       "\n",
       "    .dataframe thead th {\n",
       "        text-align: right;\n",
       "    }\n",
       "</style>\n",
       "<table border=\"1\" class=\"dataframe\">\n",
       "  <thead>\n",
       "    <tr style=\"text-align: right;\">\n",
       "      <th></th>\n",
       "      <th>Unique_ID</th>\n",
       "      <th>Release</th>\n",
       "      <th>TSG-RAN</th>\n",
       "      <th>TSG-SA</th>\n",
       "      <th>TSG-CT</th>\n",
       "      <th>rapporteur</th>\n",
       "      <th>WI rapporteur name</th>\n",
       "      <th>WI rapporteur e-mail</th>\n",
       "      <th>is_hyperlink</th>\n",
       "      <th>is_download</th>\n",
       "      <th>Impacted TSs and TRs</th>\n",
       "      <th>Start</th>\n",
       "      <th>Created</th>\n",
       "      <th>last modif</th>\n",
       "      <th>Finish</th>\n",
       "      <th>duration</th>\n",
       "      <th>is_complete</th>\n",
       "    </tr>\n",
       "  </thead>\n",
       "  <tbody>\n",
       "    <tr>\n",
       "      <th>0</th>\n",
       "      <td>959999</td>\n",
       "      <td>-</td>\n",
       "      <td>N</td>\n",
       "      <td>N</td>\n",
       "      <td>N</td>\n",
       "      <td>-</td>\n",
       "      <td>-</td>\n",
       "      <td>-</td>\n",
       "      <td>Y</td>\n",
       "      <td>N</td>\n",
       "      <td>NaN</td>\n",
       "      <td>2019-03-07</td>\n",
       "      <td>2022-03-13</td>\n",
       "      <td>NaT</td>\n",
       "      <td>2019-03-07</td>\n",
       "      <td>0</td>\n",
       "      <td>N</td>\n",
       "    </tr>\n",
       "  </tbody>\n",
       "</table>\n",
       "</div>"
      ],
      "text/plain": [
       "   Unique_ID Release TSG-RAN TSG-SA TSG-CT rapporteur WI rapporteur name  \\\n",
       "0     959999       -       N      N      N          -                  -   \n",
       "\n",
       "  WI rapporteur e-mail is_hyperlink is_download  Impacted TSs and TRs  \\\n",
       "0                    -            Y           N                   NaN   \n",
       "\n",
       "       Start    Created last modif     Finish  duration is_complete  \n",
       "0 2019-03-07 2022-03-13        NaT 2019-03-07         0           N  "
      ]
     },
     "execution_count": 5,
     "metadata": {},
     "output_type": "execute_result"
    }
   ],
   "source": [
    "overview_df.head(1)"
   ]
  },
  {
   "cell_type": "code",
   "execution_count": 224,
   "id": "008e2562",
   "metadata": {},
   "outputs": [],
   "source": [
    "for key, value in need_replace.items():\n",
    "    overview_df[\"rapporteur\"] = overview_df[\"rapporteur\"].str.replace(fr'^{key}$',need_replace[key], regex=True)"
   ]
  },
  {
   "cell_type": "markdown",
   "id": "dc8cfb39",
   "metadata": {},
   "source": [
    "### 手動過濾合併"
   ]
  },
  {
   "cell_type": "code",
   "execution_count": 225,
   "id": "13ee118b",
   "metadata": {},
   "outputs": [
    {
     "data": {
      "text/plain": [
       "8143"
      ]
     },
     "execution_count": 225,
     "metadata": {},
     "output_type": "execute_result"
    }
   ],
   "source": [
    "len(overview_df)"
   ]
  },
  {
   "cell_type": "code",
   "execution_count": 165,
   "id": "c0dd15e1",
   "metadata": {},
   "outputs": [
    {
     "name": "stderr",
     "output_type": "stream",
     "text": [
      "C:\\Users\\Penny\\anaconda3\\lib\\site-packages\\pandas\\util\\_decorators.py:211: FutureWarning: the 'encoding' keyword is deprecated and will be removed in a future version. Please take steps to stop the use of 'encoding'\n",
      "  return func(*args, **kwargs)\n"
     ]
    }
   ],
   "source": [
    "# ========= step1: 將overview_df不在company清單的企業移除至 wi_overview_dirty.xlsx ========= \n",
    "# condition = overview_df['rapporteur'].isin(companies)\n",
    "# dirty_df = overview_df[condition == False]\n",
    "# print(len(dirty_df))\n",
    "# overview_df.drop(dirty_df.index, inplace=True)\n",
    "# dirty_df.to_excel('wi_overview_dirty.xlsx', encoding='utf_8_sig', index=False)\n",
    "\n",
    "# ========= step2: 手動整理完之後，讀取cleaned_df再併入overview_df中 ========= \n",
    "# cleaned_df = pd.read_excel(\"wi_overview_dirty.xlsx\")\n",
    "# overview_df = pd.concat([overview_df, cleaned_df])\n",
    "# print(len(cleaned_df))\n",
    "# print(len(overview_df))\n",
    "\n",
    "# ========= step3: 確認overview_df總筆術後，存成新檔 wi_overview_cleaned.xlsx ========= \n",
    "# overview_df.to_excel('wi_overview_cleaned.xlsx', encoding='utf_8_sig', index=False)"
   ]
  },
  {
   "cell_type": "markdown",
   "id": "6320c0d6",
   "metadata": {},
   "source": [
    "## 3. 統一supporting member表格中WIR與SUP企業名稱"
   ]
  },
  {
   "cell_type": "code",
   "execution_count": 11,
   "id": "afd782d1",
   "metadata": {},
   "outputs": [
    {
     "data": {
      "text/plain": [
       "61099"
      ]
     },
     "execution_count": 11,
     "metadata": {},
     "output_type": "execute_result"
    }
   ],
   "source": [
    "len(supporter_df)"
   ]
  },
  {
   "cell_type": "code",
   "execution_count": 28,
   "id": "b4e22c8c",
   "metadata": {},
   "outputs": [
    {
     "name": "stderr",
     "output_type": "stream",
     "text": [
      "C:\\Users\\Penny\\anaconda3\\lib\\site-packages\\pandas\\util\\_decorators.py:211: FutureWarning: the 'encoding' keyword is deprecated and will be removed in a future version. Please take steps to stop the use of 'encoding'\n",
      "  return func(*args, **kwargs)\n"
     ]
    }
   ],
   "source": [
    "for key, value in need_replace.items():\n",
    "    supporter_df[\"supporting member\"] = supporter_df[\"supporting member\"].str.replace(fr'^{key}$',need_replace[key], regex=True)\n",
    "\n",
    "\n",
    "# 對指定欄位進行替換\n",
    "supporter_df[\"supporting member\"] = supporter_df[\"supporting member\"].str.replace(r'^[^a-z]*|[^a-z]*$', '', regex=True)\n",
    "supporter_df[\"supporting member\"] = supporter_df[\"supporting member\"].str.replace(r' ltd$', '', regex=True)\n",
    "supporter_df[\"supporting member\"] = supporter_df[\"supporting member\"].str.replace(r' limited$', '', regex=True)\n",
    "supporter_df[\"supporting member\"] = supporter_df[\"supporting member\"].str.replace(r' uk$', '', regex=True)  \n",
    "supporter_df[\"supporting member\"] = supporter_df[\"supporting member\"].str.replace(r' us$', '', regex=True)  \n",
    "supporter_df[\"supporting member\"] = supporter_df[\"supporting member\"].str.replace(r' inc$', '', regex=True)  "
   ]
  },
  {
   "cell_type": "code",
   "execution_count": 7,
   "id": "edc3b1b0",
   "metadata": {},
   "outputs": [
    {
     "name": "stderr",
     "output_type": "stream",
     "text": [
      "C:\\Users\\Penny\\anaconda3\\lib\\site-packages\\pandas\\util\\_decorators.py:211: FutureWarning: the 'encoding' keyword is deprecated and will be removed in a future version. Please take steps to stop the use of 'encoding'\n",
      "  return func(*args, **kwargs)\n"
     ]
    }
   ],
   "source": [
    "supporter_df = supporter_df.drop_duplicates()\n",
    "supporter_df.to_excel('supporter_overview.xlsx', encoding='utf_8_sig', index=False)"
   ]
  },
  {
   "cell_type": "markdown",
   "id": "da02e113",
   "metadata": {},
   "source": [
    "## 4. 合併WI表格到supporting member表格中"
   ]
  },
  {
   "cell_type": "code",
   "execution_count": 28,
   "id": "3819e215",
   "metadata": {
    "scrolled": true
   },
   "outputs": [],
   "source": [
    "# ========= step1: 刪除重複資料、無效資料 ========= \n",
    "\n",
    "# 刪除Work item名稱、檔案名稱\n",
    "supporter_df = supporter_df.drop(['title', 'file'], axis=1)\n",
    "\n",
    "# 刪除重複值\n",
    "supporter_df[supporter_df.duplicated() == True].to_excel('supporter_df_duplicated.xlsx', encoding='utf_8_sig', index=False)\n",
    "supporter_df = supporter_df.drop_duplicates()\n",
    "print(len(supporter_df))\n",
    "supporter_df.head()"
   ]
  },
  {
   "cell_type": "code",
   "execution_count": 29,
   "id": "ce608889",
   "metadata": {
    "scrolled": false
   },
   "outputs": [],
   "source": [
    "print(len(sup_release))\n",
    "print(len(sup_ran))\n",
    "print(len(sup_sa))\n",
    "print(len(sup_ct))\n",
    "print(len(sup_rapport))\n",
    "print(len(sup_start))\n",
    "print(len(sup_end))\n",
    "print(len(sup_complete))\n",
    "supporter_df = supporter_df.drop(['rapporteur'], axis=1)\n",
    "# supporter_df.insert(3, 'complete', sup_complete)\n",
    "# supporter_df.insert(3, 'end', sup_end)\n",
    "# supporter_df.insert(3, 'start', sup_start)\n",
    "supporter_df.insert(6, 'rapporteur', sup_rapport)\n",
    "\n",
    "# supporter_df.insert(2, 'ct', sup_ct)\n",
    "# supporter_df.insert(2, 'sa', sup_sa)\n",
    "# supporter_df.insert(2, 'ran', sup_ran)\n",
    "# supporter_df.insert(2, 'release', sup_release)\n",
    "supporter_df.head(1)"
   ]
  },
  {
   "cell_type": "code",
   "execution_count": 303,
   "id": "3b981877",
   "metadata": {},
   "outputs": [],
   "source": [
    "supporter_df['duration'] = (supporter_df['end'] - supporter_df['start']).dt.days"
   ]
  },
  {
   "cell_type": "code",
   "execution_count": 23,
   "id": "2f26e9db",
   "metadata": {},
   "outputs": [],
   "source": [
    "supporter_df = supporter_df.drop_duplicates()\n",
    "supporter_df.to_excel('supporter_overview.xlsx', encoding='utf_8_sig', index=False)"
   ]
  },
  {
   "cell_type": "markdown",
   "id": "ead20c88",
   "metadata": {},
   "source": [
    "## 5. 整理company overview表格：所有企業在不同版本參與WI次數"
   ]
  },
  {
   "cell_type": "markdown",
   "id": "5ebdd0ae",
   "metadata": {},
   "source": [
    "### 針對所有release"
   ]
  },
  {
   "cell_type": "code",
   "execution_count": 3,
   "id": "a74a96e9",
   "metadata": {},
   "outputs": [],
   "source": [
    "target_rel = ['Rel-12', 'Rel-13', 'Rel-14', 'Rel-15', 'Rel-16','Rel-17', 'Rel-18']\n",
    "\n",
    "all_rapporteurs = []\n",
    "ran_rapporteurs = []\n",
    "\n",
    "for index, row in overview_df.iterrows():\n",
    "    if row['release'] in target_rel:\n",
    "        if ',' in str(row[\"rapporteur\"]):\n",
    "            if row['ran'] == 'Y':\n",
    "                ran_rapporteurs += row[\"rapporteur\"].split(', ')\n",
    "            all_rapporteurs += row[\"rapporteur\"].split(', ')\n",
    "        else:\n",
    "            if row['ran'] == 'Y':\n",
    "                ran_rapporteurs.append(row['rapporteur'])\n",
    "            all_rapporteurs.append(row['rapporteur'])\n",
    "        \n",
    "all_supporters = []\n",
    "ran_supporters = []\n",
    "all_supported_count = []\n",
    "ran_supported_count = []\n",
    "\n",
    "for index, row in supporter_df.iterrows():\n",
    "    if row['release'] in target_rel:\n",
    "        if ',' in str(row[\"rapporteur\"]):\n",
    "            if row['ran'] == 'Y':\n",
    "                ran_supporters += row[\"supporting member\"].split(', ')\n",
    "            all_supporters += row[\"supporting member\"].split(', ')\n",
    "        else:\n",
    "            if row['ran'] == 'Y':\n",
    "                ran_supporters.append(row['supporting member'])\n",
    "            all_supporters.append(row['supporting member'])\n",
    "            \n",
    "        if ',' in str(row[\"rapporteur\"]):\n",
    "            if row['ran'] == 'Y':\n",
    "                ran_supported_count += row[\"rapporteur\"].split(', ')\n",
    "            all_supported_count += row[\"rapporteur\"].split(', ')\n",
    "        else:\n",
    "            if row['ran'] == 'Y':\n",
    "                ran_supported_count.append(row['rapporteur'])\n",
    "            all_supported_count.append(row['rapporteur'])    \n",
    "            "
   ]
  },
  {
   "cell_type": "code",
   "execution_count": 4,
   "id": "2e37603d",
   "metadata": {},
   "outputs": [],
   "source": [
    "for key, value in need_replace.items():\n",
    "    ran_rapporteurs = [value if name == key else name for name in ran_rapporteurs]\n",
    "    all_rapporteurs = [value if name == key else name for name in all_rapporteurs]\n",
    "    "
   ]
  },
  {
   "cell_type": "code",
   "execution_count": 5,
   "id": "71d78110",
   "metadata": {
    "scrolled": true
   },
   "outputs": [
    {
     "name": "stdout",
     "output_type": "stream",
     "text": [
      "    company  (RAN)rapporteur  (RAN)supported  (RAN)supporter\n",
      "0    huawei            339.0          3917.0            1439\n",
      "1  ericsson            298.0          4293.0            1404\n",
      "    company  rapporteur  supported  supporter\n",
      "0    huawei       737.0     8456.0     3077.0\n",
      "1  ericsson       658.0     7553.0     3134.0\n"
     ]
    }
   ],
   "source": [
    "ran_rapporteur = pd.Series(ran_rapporteurs).value_counts().reset_index()\n",
    "ran_rapporteur = ran_rapporteur.rename(columns={'index': 'company', 0: '(RAN)rapporteur'})\n",
    "all_rapporteur = pd.Series(all_rapporteurs).value_counts().reset_index()\n",
    "all_rapporteur = all_rapporteur.rename(columns={'index': 'company', 0: 'rapporteur'})\n",
    "\n",
    "ran_supported = pd.Series(ran_supported_count).value_counts().reset_index()\n",
    "ran_supported = ran_supported.rename(columns={'index': 'company', 0: '(RAN)supported'})\n",
    "all_supported = pd.Series(all_supported_count).value_counts().reset_index()\n",
    "all_supported = all_supported.rename(columns={'index': 'company', 0: 'supported'})\n",
    "\n",
    "ran_supporters = pd.Series(ran_supporters).value_counts().reset_index()\n",
    "ran_supporters = ran_supporters.rename(columns={'index': 'company', 0: '(RAN)supporter'})\n",
    "all_supporters = pd.Series(all_supporters).value_counts().reset_index()\n",
    "all_supporters = all_supporters.rename(columns={'index': 'company', 0: 'supporter'})\n",
    "\n",
    "all_counts = pd.merge(all_rapporteur,all_supported,on='company',how='outer')\n",
    "all_counts = pd.merge(all_counts,all_supporters,on='company',how='outer')\n",
    "ran_counts = pd.merge(ran_rapporteur,ran_supported,on='company',how='outer')\n",
    "ran_counts = pd.merge(ran_counts,ran_supporters,on='company',how='outer')\n",
    "print(ran_counts.head(2))\n",
    "print(all_counts.head(2))"
   ]
  },
  {
   "cell_type": "markdown",
   "id": "2c809646",
   "metadata": {},
   "source": [
    "### 針對特定release"
   ]
  },
  {
   "cell_type": "code",
   "execution_count": 6,
   "id": "8648e0de",
   "metadata": {},
   "outputs": [],
   "source": [
    "company_count_by_release = {}\n",
    "\n",
    "for rel in range(12, 19):\n",
    "    overview_df_by_rel = overview_df[overview_df.release == f'Rel-{rel}']\n",
    "    supporter_df_by_rel = supporter_df[supporter_df.release == f'Rel-{rel}']\n",
    "    \n",
    "    all_rapporteurs = []\n",
    "    ran_rapporteurs = []\n",
    "   \n",
    "    for index, row in overview_df_by_rel.iterrows():\n",
    "\n",
    "        if ',' in str(row[\"rapporteur\"]):\n",
    "            if row['ran'] == 'Y':\n",
    "                ran_rapporteurs += row[\"rapporteur\"].split(', ')\n",
    "            all_rapporteurs += row[\"rapporteur\"].split(', ')\n",
    "        else:\n",
    "            if row['ran'] == 'Y':\n",
    "                ran_rapporteurs.append(row['rapporteur'])\n",
    "            all_rapporteurs.append(row['rapporteur'])\n",
    "    \n",
    "    \n",
    "    all_supporters = []\n",
    "    ran_supporters = []\n",
    "    all_supported = []\n",
    "    ran_supported = []\n",
    "    \n",
    "    for index, row in supporter_df_by_rel.iterrows():\n",
    "\n",
    "        if ',' in str(row[\"rapporteur\"]):\n",
    "            if row['ran'] == 'Y':\n",
    "                ran_supporters += row[\"supporting member\"].split(', ')\n",
    "            all_supporters += row[\"supporting member\"].split(', ')\n",
    "        else:\n",
    "            if row['ran'] == 'Y':\n",
    "                ran_supporters.append(row['supporting member'])\n",
    "            all_supporters.append(row['supporting member'])\n",
    "                    \n",
    "        if ',' in str(row[\"rapporteur\"]):\n",
    "            if row['ran'] == 'Y':\n",
    "                ran_supported += row[\"rapporteur\"].split(', ')\n",
    "            all_supported += row[\"rapporteur\"].split(', ')\n",
    "        else:\n",
    "            if row['ran'] == 'Y':\n",
    "                ran_supported.append(row['rapporteur'])\n",
    "            all_supported.append(row['rapporteur'])    \n",
    "            \n",
    "    company_count_by_release[f'rapporteur-{rel}'] = all_rapporteurs\n",
    "    company_count_by_release[f'(RAN)rapporteur-{rel}'] = ran_rapporteurs\n",
    "    company_count_by_release[f'supported-{rel}'] = all_supported\n",
    "    company_count_by_release[f'(RAN)supported-{rel}'] = ran_supported\n",
    "    company_count_by_release[f'supporter-{rel}'] = all_supporters\n",
    "    company_count_by_release[f'(RAN)supporter-{rel}'] = ran_supporters"
   ]
  },
  {
   "cell_type": "markdown",
   "id": "2a211d6d",
   "metadata": {},
   "source": [
    "### 拆分成TSG和RAN兩個版本\n",
    "1. TSG: 企業在不同release，參與所有會議次數\n",
    "2. RAN: 企業在不同release，參與RAN會議次數"
   ]
  },
  {
   "cell_type": "code",
   "execution_count": 8,
   "id": "b9fc5322",
   "metadata": {
    "scrolled": true
   },
   "outputs": [
    {
     "data": {
      "text/html": [
       "<div>\n",
       "<style scoped>\n",
       "    .dataframe tbody tr th:only-of-type {\n",
       "        vertical-align: middle;\n",
       "    }\n",
       "\n",
       "    .dataframe tbody tr th {\n",
       "        vertical-align: top;\n",
       "    }\n",
       "\n",
       "    .dataframe thead th {\n",
       "        text-align: right;\n",
       "    }\n",
       "</style>\n",
       "<table border=\"1\" class=\"dataframe\">\n",
       "  <thead>\n",
       "    <tr style=\"text-align: right;\">\n",
       "      <th></th>\n",
       "      <th>company</th>\n",
       "      <th>(RAN)rapporteur</th>\n",
       "      <th>(RAN)supported</th>\n",
       "      <th>(RAN)supporter</th>\n",
       "      <th>(RAN)rapporteur-12</th>\n",
       "      <th>(RAN)rapporteur-13</th>\n",
       "      <th>(RAN)rapporteur-14</th>\n",
       "      <th>(RAN)rapporteur-15</th>\n",
       "      <th>(RAN)rapporteur-16</th>\n",
       "      <th>(RAN)rapporteur-17</th>\n",
       "      <th>...</th>\n",
       "      <th>(RAN)supported-16</th>\n",
       "      <th>(RAN)supported-17</th>\n",
       "      <th>(RAN)supported-18</th>\n",
       "      <th>(RAN)supporter-12</th>\n",
       "      <th>(RAN)supporter-13</th>\n",
       "      <th>(RAN)supporter-14</th>\n",
       "      <th>(RAN)supporter-15</th>\n",
       "      <th>(RAN)supporter-16</th>\n",
       "      <th>(RAN)supporter-17</th>\n",
       "      <th>(RAN)supporter-18</th>\n",
       "    </tr>\n",
       "  </thead>\n",
       "  <tbody>\n",
       "    <tr>\n",
       "      <th>0</th>\n",
       "      <td>huawei</td>\n",
       "      <td>339.0</td>\n",
       "      <td>3917.0</td>\n",
       "      <td>1439</td>\n",
       "      <td>43.0</td>\n",
       "      <td>94.0</td>\n",
       "      <td>27.0</td>\n",
       "      <td>41.0</td>\n",
       "      <td>56.0</td>\n",
       "      <td>46.0</td>\n",
       "      <td>...</td>\n",
       "      <td>706.0</td>\n",
       "      <td>518.0</td>\n",
       "      <td>518.0</td>\n",
       "      <td>214.0</td>\n",
       "      <td>276.0</td>\n",
       "      <td>116.0</td>\n",
       "      <td>119.0</td>\n",
       "      <td>262.0</td>\n",
       "      <td>254.0</td>\n",
       "      <td>198.0</td>\n",
       "    </tr>\n",
       "    <tr>\n",
       "      <th>1</th>\n",
       "      <td>ericsson</td>\n",
       "      <td>298.0</td>\n",
       "      <td>4293.0</td>\n",
       "      <td>1404</td>\n",
       "      <td>44.0</td>\n",
       "      <td>53.0</td>\n",
       "      <td>45.0</td>\n",
       "      <td>40.0</td>\n",
       "      <td>53.0</td>\n",
       "      <td>33.0</td>\n",
       "      <td>...</td>\n",
       "      <td>653.0</td>\n",
       "      <td>581.0</td>\n",
       "      <td>497.0</td>\n",
       "      <td>304.0</td>\n",
       "      <td>286.0</td>\n",
       "      <td>127.0</td>\n",
       "      <td>98.0</td>\n",
       "      <td>239.0</td>\n",
       "      <td>202.0</td>\n",
       "      <td>148.0</td>\n",
       "    </tr>\n",
       "  </tbody>\n",
       "</table>\n",
       "<p>2 rows × 25 columns</p>\n",
       "</div>"
      ],
      "text/plain": [
       "    company  (RAN)rapporteur  (RAN)supported  (RAN)supporter  \\\n",
       "0    huawei            339.0          3917.0            1439   \n",
       "1  ericsson            298.0          4293.0            1404   \n",
       "\n",
       "   (RAN)rapporteur-12  (RAN)rapporteur-13  (RAN)rapporteur-14  \\\n",
       "0                43.0                94.0                27.0   \n",
       "1                44.0                53.0                45.0   \n",
       "\n",
       "   (RAN)rapporteur-15  (RAN)rapporteur-16  (RAN)rapporteur-17  ...  \\\n",
       "0                41.0                56.0                46.0  ...   \n",
       "1                40.0                53.0                33.0  ...   \n",
       "\n",
       "   (RAN)supported-16  (RAN)supported-17  (RAN)supported-18  (RAN)supporter-12  \\\n",
       "0              706.0              518.0              518.0              214.0   \n",
       "1              653.0              581.0              497.0              304.0   \n",
       "\n",
       "   (RAN)supporter-13  (RAN)supporter-14  (RAN)supporter-15  (RAN)supporter-16  \\\n",
       "0              276.0              116.0              119.0              262.0   \n",
       "1              286.0              127.0               98.0              239.0   \n",
       "\n",
       "   (RAN)supporter-17  (RAN)supporter-18  \n",
       "0              254.0              198.0  \n",
       "1              202.0              148.0  \n",
       "\n",
       "[2 rows x 25 columns]"
      ]
     },
     "metadata": {},
     "output_type": "display_data"
    },
    {
     "data": {
      "text/html": [
       "<div>\n",
       "<style scoped>\n",
       "    .dataframe tbody tr th:only-of-type {\n",
       "        vertical-align: middle;\n",
       "    }\n",
       "\n",
       "    .dataframe tbody tr th {\n",
       "        vertical-align: top;\n",
       "    }\n",
       "\n",
       "    .dataframe thead th {\n",
       "        text-align: right;\n",
       "    }\n",
       "</style>\n",
       "<table border=\"1\" class=\"dataframe\">\n",
       "  <thead>\n",
       "    <tr style=\"text-align: right;\">\n",
       "      <th></th>\n",
       "      <th>company</th>\n",
       "      <th>rapporteur</th>\n",
       "      <th>supported</th>\n",
       "      <th>supporter</th>\n",
       "      <th>rapporteur-12</th>\n",
       "      <th>rapporteur-13</th>\n",
       "      <th>rapporteur-14</th>\n",
       "      <th>rapporteur-15</th>\n",
       "      <th>rapporteur-16</th>\n",
       "      <th>rapporteur-17</th>\n",
       "      <th>...</th>\n",
       "      <th>supported-16</th>\n",
       "      <th>supported-17</th>\n",
       "      <th>supported-18</th>\n",
       "      <th>supporter-12</th>\n",
       "      <th>supporter-13</th>\n",
       "      <th>supporter-14</th>\n",
       "      <th>supporter-15</th>\n",
       "      <th>supporter-16</th>\n",
       "      <th>supporter-17</th>\n",
       "      <th>supporter-18</th>\n",
       "    </tr>\n",
       "  </thead>\n",
       "  <tbody>\n",
       "    <tr>\n",
       "      <th>0</th>\n",
       "      <td>huawei</td>\n",
       "      <td>737.0</td>\n",
       "      <td>8456.0</td>\n",
       "      <td>3077.0</td>\n",
       "      <td>106.0</td>\n",
       "      <td>137.0</td>\n",
       "      <td>66.0</td>\n",
       "      <td>100.0</td>\n",
       "      <td>113.0</td>\n",
       "      <td>127.0</td>\n",
       "      <td>...</td>\n",
       "      <td>1424.0</td>\n",
       "      <td>1471.0</td>\n",
       "      <td>1086.0</td>\n",
       "      <td>504.0</td>\n",
       "      <td>485.0</td>\n",
       "      <td>292.0</td>\n",
       "      <td>270.0</td>\n",
       "      <td>497.0</td>\n",
       "      <td>604.0</td>\n",
       "      <td>425.0</td>\n",
       "    </tr>\n",
       "    <tr>\n",
       "      <th>1</th>\n",
       "      <td>ericsson</td>\n",
       "      <td>658.0</td>\n",
       "      <td>7553.0</td>\n",
       "      <td>3134.0</td>\n",
       "      <td>142.0</td>\n",
       "      <td>107.0</td>\n",
       "      <td>79.0</td>\n",
       "      <td>69.0</td>\n",
       "      <td>84.0</td>\n",
       "      <td>99.0</td>\n",
       "      <td>...</td>\n",
       "      <td>933.0</td>\n",
       "      <td>1343.0</td>\n",
       "      <td>963.0</td>\n",
       "      <td>619.0</td>\n",
       "      <td>517.0</td>\n",
       "      <td>330.0</td>\n",
       "      <td>272.0</td>\n",
       "      <td>488.0</td>\n",
       "      <td>549.0</td>\n",
       "      <td>359.0</td>\n",
       "    </tr>\n",
       "  </tbody>\n",
       "</table>\n",
       "<p>2 rows × 25 columns</p>\n",
       "</div>"
      ],
      "text/plain": [
       "    company  rapporteur  supported  supporter  rapporteur-12  rapporteur-13  \\\n",
       "0    huawei       737.0     8456.0     3077.0          106.0          137.0   \n",
       "1  ericsson       658.0     7553.0     3134.0          142.0          107.0   \n",
       "\n",
       "   rapporteur-14  rapporteur-15  rapporteur-16  rapporteur-17  ...  \\\n",
       "0           66.0          100.0          113.0          127.0  ...   \n",
       "1           79.0           69.0           84.0           99.0  ...   \n",
       "\n",
       "   supported-16  supported-17  supported-18  supporter-12  supporter-13  \\\n",
       "0        1424.0        1471.0        1086.0         504.0         485.0   \n",
       "1         933.0        1343.0         963.0         619.0         517.0   \n",
       "\n",
       "   supporter-14  supporter-15  supporter-16  supporter-17  supporter-18  \n",
       "0         292.0         270.0         497.0         604.0         425.0  \n",
       "1         330.0         272.0         488.0         549.0         359.0  \n",
       "\n",
       "[2 rows x 25 columns]"
      ]
     },
     "metadata": {},
     "output_type": "display_data"
    }
   ],
   "source": [
    "for title in ['rapporteur-','supported-','supporter-']:\n",
    "    for rel in range(12, 19):\n",
    "#         print(f'{title}{rel}')\n",
    "        count = pd.Series(company_count_by_release[f'{title}{rel}']).value_counts().reset_index()\n",
    "        count = count.rename(columns={'index': 'company', 0: f'{title}{rel}'})\n",
    "        all_counts = pd.merge(all_counts,count,on='company',how='outer')\n",
    "\n",
    "for title in ['(RAN)rapporteur-','(RAN)supported-','(RAN)supporter-']:\n",
    "    for rel in range(12, 19):\n",
    "#         print(f'{title}{rel}')\n",
    "        count = pd.Series(company_count_by_release[f'{title}{rel}']).value_counts().reset_index()\n",
    "        count = count.rename(columns={'index': 'company', 0: f'{title}{rel}'})\n",
    "        ran_counts = pd.merge(ran_counts,count,on='company',how='outer')\n",
    "        \n",
    "display(ran_counts.head(2))\n",
    "display(all_counts.head(2))"
   ]
  },
  {
   "cell_type": "code",
   "execution_count": 9,
   "id": "99d99986",
   "metadata": {},
   "outputs": [
    {
     "name": "stderr",
     "output_type": "stream",
     "text": [
      "C:\\Users\\Penny\\anaconda3\\lib\\site-packages\\pandas\\util\\_decorators.py:211: FutureWarning: the 'encoding' keyword is deprecated and will be removed in a future version. Please take steps to stop the use of 'encoding'\n",
      "  return func(*args, **kwargs)\n"
     ]
    }
   ],
   "source": [
    "to_drop = all_counts[all_counts['company'] == '-'].index\n",
    "all_counts = all_counts.drop(to_drop)\n",
    "\n",
    "all_counts.to_excel('all_tsg_company_overview.xlsx', encoding='utf_8_sig', index=False)\n",
    "\n",
    "to_drop = ran_counts[ran_counts['company'] == '-'].index\n",
    "ran_counts = ran_counts.drop(to_drop)\n",
    "\n",
    "ran_counts.to_excel('ran_company_overview.xlsx', encoding='utf_8_sig', index=False)"
   ]
  }
 ],
 "metadata": {
  "kernelspec": {
   "display_name": "Python 3 (ipykernel)",
   "language": "python",
   "name": "python3"
  },
  "language_info": {
   "codemirror_mode": {
    "name": "ipython",
    "version": 3
   },
   "file_extension": ".py",
   "mimetype": "text/x-python",
   "name": "python",
   "nbconvert_exporter": "python",
   "pygments_lexer": "ipython3",
   "version": "3.10.9"
  }
 },
 "nbformat": 4,
 "nbformat_minor": 5
}
