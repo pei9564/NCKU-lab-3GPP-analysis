{
 "cells": [
  {
   "cell_type": "code",
   "execution_count": 1,
   "id": "c041bf38",
   "metadata": {
    "scrolled": true
   },
   "outputs": [],
   "source": [
    "import openpyxl\n",
    "import pandas as pd\n",
    "import os, docx2txt\n",
    "import re\n",
    "\n",
    "total_wi = pd.read_excel(\"Work_plan_3gpp_230110.xlsm\")\n",
    "wb = openpyxl.load_workbook('Work_plan_3gpp_230110.xlsm')\n",
    "ws = wb['Work_plan_3gpp']\n",
    "# date: 2023/2/19"
   ]
  },
  {
   "cell_type": "markdown",
   "id": "602ff0aa",
   "metadata": {},
   "source": [
    "# 下載work plan中會議記錄"
   ]
  },
  {
   "cell_type": "markdown",
   "id": "b82d0d07",
   "metadata": {},
   "source": [
    "## 1. 探索Work_plan_3gpp_230110.xlsm檔案"
   ]
  },
  {
   "cell_type": "raw",
   "id": "f5419709",
   "metadata": {},
   "source": [
    "{'SP-220943':{\n",
    "    'Unique_ID':'970044',\n",
    "    'release':'Rel-19',\n",
    "    'Hyperlink':'https://www.3gpp.org/ftp/Information/WI_Sheet/SP-220943.zip',\n",
    "    'WI rapporteur name':'Yuying Zhang, China Telecom',\n",
    "    'Supporting Individual Members':[]\n",
    "             }}"
   ]
  },
  {
   "cell_type": "code",
   "execution_count": 4,
   "id": "4dcfdd29",
   "metadata": {},
   "outputs": [
    {
     "name": "stdout",
     "output_type": "stream",
     "text": [
      "共8144筆有效資料，部分release 11及其後會議附上會議紀錄，共2813筆\n"
     ]
    }
   ],
   "source": [
    "content = {}\n",
    "valid_lines = 0\n",
    "\n",
    "for i in range(1, len(ws['K'])+1):\n",
    "    if ws[f'B{i}'].value != 0: \n",
    "        valid_lines += 1\n",
    "        if ws.cell(i, 11).hyperlink:\n",
    "            content[ws[f'K{i}'].value] = {\n",
    "                        'Unique_ID': ws[f'B{i}'].value,\n",
    "                        'release': ws[f'F{i}'].value,\n",
    "                        'Hyperlink': ws.cell(i, 11).hyperlink.target,\n",
    "                        'WI rapporteur name': ws[f'K{i}'].value,\n",
    "                        'Supporting Individual Members':[] \n",
    "                    }\n",
    "\n",
    "print(f'共{valid_lines}筆有效資料，部分release 11及其後會議附上會議紀錄，共{len(content)}筆')"
   ]
  },
  {
   "cell_type": "markdown",
   "id": "c5e49e2a",
   "metadata": {},
   "source": [
    "## 2. 下載excel中的所有檔案並解壓縮"
   ]
  },
  {
   "cell_type": "code",
   "execution_count": 5,
   "id": "aeccc0b6",
   "metadata": {},
   "outputs": [],
   "source": [
    "import requests, zipfile, io\n",
    "\n",
    "\n",
    "########## zipfile 參考用法 ##########\n",
    "\n",
    "# r = requests.get(zip_file_url)\n",
    "# z = zipfile.ZipFile(io.BytesIO(r.content))\n",
    "# z.extractall(\"./doc\")\n",
    "######################################\n",
    "\n",
    "\n",
    "suc_count = 0\n",
    "fail_count = 0\n",
    "\n",
    "\n",
    "for key, value in content.items():\n",
    "    if key not in ' '.join(os.listdir('./docx')):\n",
    "        try:\n",
    "            r = requests.get(value['Hyperlink'])\n",
    "            z = zipfile.ZipFile(io.BytesIO(r.content))\n",
    "            z.extractall(\"./doc\")\n",
    "#             print(f'done: {key}',\": \",content[key]['Hyperlink'], f\"in {content[key]['release']}\")\n",
    "            suc_count += 1\n",
    "\n",
    "        except:\n",
    "#             print(f'Failed download: {key}',\": \",content[key]['Hyperlink'], f\"in {content[key]['release']}\")\n",
    "#             print(f\"{key} in {content[key]['release']}\")\n",
    "            fail_count += 1 \n",
    "\n",
    "    \n",
    "print(f'finish download {suc_count} documents, with {fail_count} failed')"
   ]
  },
  {
   "cell_type": "markdown",
   "id": "ef48e673",
   "metadata": {},
   "source": [
    "## 3. 使用excel VBA將doc轉換成docx\n",
    "https://zh-tw.extendoffice.com/documents/word/5601-word-batch-convert-doc-to-docx.html"
   ]
  },
  {
   "cell_type": "raw",
   "id": "a962fc0f",
   "metadata": {},
   "source": [
    "Sub ConvertDocToDocx()\n",
    "'Updated by ExtendOffice 20181128\n",
    "    Dim xDlg As FileDialog\n",
    "    Dim xFolder As Variant\n",
    "    Dim xFileName As String\n",
    "    Application.ScreenUpdating = False\n",
    "    Set xDlg = Application.FileDialog(msoFileDialogFolderPicker)\n",
    "    If xDlg.Show <> -1 Then Exit Sub\n",
    "    xFolder = xDlg.SelectedItems(1) + \"\\\"\n",
    "    xFileName = Dir(xFolder & \"*.doc\", vbNormal)\n",
    "    While xFileName <> \"\"\n",
    "        Documents.Open FileName:=xFolder & xFileName, _\n",
    "            ConfirmConversions:=False, ReadOnly:=False, AddToRecentFiles:=False, _\n",
    "            PasswordDocument:=\"\", PasswordTemplate:=\"\", Revert:=False, _\n",
    "            WritePasswordDocument:=\"\", WritePasswordTemplate:=\"\", Format:= _\n",
    "            wdOpenFormatAuto, XMLTransform:=\"\"\n",
    "        ActiveDocument.SaveAs xFolder & Replace(xFileName, \"doc\", \"docx\"), wdFormatDocumentDefault\n",
    "        ActiveDocument.Close\n",
    "        xFileName = Dir()\n",
    "    Wend\n",
    "    Application.ScreenUpdating = True\n",
    "End Sub\n"
   ]
  },
  {
   "cell_type": "markdown",
   "id": "99949d3d",
   "metadata": {},
   "source": [
    "## 3. 讀取所有整理好的docx檔"
   ]
  },
  {
   "cell_type": "code",
   "execution_count": 3,
   "id": "09bd023d",
   "metadata": {},
   "outputs": [],
   "source": [
    "df = pd.DataFrame(\n",
    "    {'title':[],\n",
    "     'name':[],\n",
    "     'rapporteur':[],\n",
    "     'supporting member':[],\n",
    "     'file':[]\n",
    "       })"
   ]
  },
  {
   "cell_type": "code",
   "execution_count": 14,
   "id": "dc044807",
   "metadata": {
    "scrolled": true
   },
   "outputs": [
    {
     "name": "stdout",
     "output_type": "stream",
     "text": [
      "./CP-140450.docx\n",
      "CP-140500\n",
      "\n"
     ]
    }
   ],
   "source": [
    "import docx2txt\n",
    "finish_crawler = 0\n",
    "invalid_files = []\n",
    "warn = {}\n",
    "\n",
    "# for file in ['./CP-140450.docx']:\n",
    "\n",
    "for file in os.listdir('./docx'):\n",
    "    my_text = docx2txt.process(f\"./docx/{file}\").lower()\n",
    "    file_name = file\n",
    "    \n",
    "    ########## 跳過: 正在使用的docx檔、非會議記錄的檔案 ##########\n",
    "    if '~' in file_name or 'supporting individual members' not in my_text or 'rapporteur' not in my_text:\n",
    "        invalid_files.append(file_name)\n",
    "        print(file_name, 'seems not a conference file')\n",
    "        \n",
    "    else:    \n",
    "        \n",
    "        \n",
    "        ########## 爬取會議名稱：通常在會議記錄右上角，否則也是會議記錄檔名 ##########\n",
    "        try:\n",
    "            name = [re.sub('^[^a-zA-Z]+',\"\", i) for i in my_text.split('\\t') if re.match('[a-z][a-z]-', re.sub('^[^a-zA-Z]+',\"\", i))][0].split('\\n')[0].replace(\" \", \"\")[:9].upper()\n",
    "            print(file_name)\n",
    "            print(name)\n",
    "        except:\n",
    "            if re.match('[a-zA-Z][a-zA-Z]-', file_name):\n",
    "                name = file_name[:9]\n",
    "                print(file_name)\n",
    "                print(name)\n",
    "            else:\n",
    "                name = ''\n",
    "                print(file, f\"can't find name\")\n",
    "                warn[file] = my_text.split('\\t')\n",
    "\n",
    "#         print(name)\n",
    "#         if name.upper() not in content:\n",
    "#             print(name.upper())\n",
    "\n",
    "\n",
    "        ########## 爬取會議討論之Work Item標題：通常在title欄位 ##########\n",
    "    \n",
    "        try:    \n",
    "            title = my_text.split('title')[1].split('\\n')[0]\n",
    "        except:    \n",
    "            title = ''\n",
    "            print(file, f\"can't find title\")\n",
    "            \n",
    "            \n",
    "        ########## 爬取WI rapporteur：通常會在work item rapporteur(s)欄位 ##########\n",
    "        \n",
    "        if 'work item rapporteur(s)' in my_text:\n",
    "#             WI_rapporteur = '; '.join([i for i in my_text.split('work item rapporteur(s)')[1].split('work item leadership')[0].split('\\n\\n') if len(i) > 2 and len(i) < 100 and 'rapporteur' not in i])\n",
    "            WI_rapporteur = '; '.join([i for i in my_text.split('work item rapporteur(s)')[1].split('work item leadership')[0].split('\\n\\n') if len(i) > 3])\n",
    "#             print('work item rapporteur(s)')\n",
    "            \n",
    "        elif 'study item rapporteur(s)' in my_text:\n",
    "            WI_rapporteur = '; '.join([i for i in my_text.split('study item rapporteur(s)')[1].split('study item leadership')[0].split('\\n\\n') if len(i) > 3])\n",
    "#             print('work item rapporteur(s)')\n",
    "            \n",
    "        elif 'study item rapporteur' in my_text:\n",
    "            WI_rapporteur = '; '.join([i for i in my_text.split('study item rapporteur')[1].split('study item leadership')[0].split('\\n\\n') if len(i) > 3])\n",
    "#             print('work item rapporteur(s)')\n",
    "            \n",
    "        else:\n",
    "            try:    \n",
    "                WI_rapporteur = '; '.join([i for i in my_text.split('work item rapporteur')[1].split('work item leadership')[0].split('\\n\\n') if len(i) > 3])\n",
    "#                 print('work item rapporteur')\n",
    "            except:    \n",
    "                WI_rapporteur = ''\n",
    "                print('****************',file, f\"can't find WI_rapporteur\")\n",
    "                \n",
    "                \n",
    "        ########## 爬取WI supporting members：通常會在supporting individual members欄位 ##########\n",
    "\n",
    "        if 'im name' in my_text:  \n",
    "            supporting_ims = my_text.split('im name')[1].split('version')[0].split('\\n\\n')[1:]\n",
    "        else:\n",
    "            try:\n",
    "                supporting_ims = my_text.split('supporting individual members')[1].split('\\n\\n')[0].replace('\\t', '').replace('\\n', '').split('\\n\\n')[1:]\n",
    "            except:   \n",
    "                supporting_ims = ''\n",
    "                print(file, f\"can't find supporting_ims\")\n",
    "\n",
    "#     print(supporting_ims)\n",
    "#         if len(WI_rapporteur) > 100 or len(WI_rapporteur) < 3:\n",
    "#             print(file)\n",
    "#             print(re.sub('\\s+',\" \",re.sub('^\\W+|[1-9\\s;]+$',\"\",WI_rapporteur)))\n",
    "\n",
    "\n",
    "        ########## 確認supporting members資料，每一個supporting member建一筆資料 ##########\n",
    "    \n",
    "        for im in supporting_ims:   \n",
    "            im = re.sub('^[^a-zA-Z]+',\"\",im)\n",
    "            if len(im) > 1 and len(im) < 31 and '.' not in im and not 'references' in im and not 'history' in im:\n",
    "#                 print(im, 'len: ', len(im))\n",
    "                \n",
    "                dict = {'title': re.sub('^\\W+',\"\",title), \n",
    "                        'name': name.upper(), \n",
    "                        'rapporteur': re.sub('\\s+',\" \",re.sub('^\\W+|[1-9\\s;]+$',\"\",WI_rapporteur)), \n",
    "                        'supporting member': im, \n",
    "                        'file': file_name}\n",
    "                df2 = pd.DataFrame(dict, index=[0])\n",
    "                df = pd.concat([df, df2], ignore_index = True)\n",
    "    \n",
    "    finish_crawler +=1\n",
    "    if finish_crawler % 1000 == 0:\n",
    "        print(f'=================finish: {finish_crawler}===================')\n",
    "\n",
    "df.reset_index()"
   ]
  },
  {
   "cell_type": "code",
   "execution_count": 100,
   "id": "336daee8",
   "metadata": {
    "scrolled": true
   },
   "outputs": [
    {
     "name": "stdout",
     "output_type": "stream",
     "text": [
      "finish craw 812 files\n",
      "==== invalid files:  38  ====\n",
      "['33203_CR0235R2_(Rel-13)_S3-152117.docx', '33203_CR0236R2_(Rel-13)_S3-152118.docx', '33203_CR0238_(Rel-13)_S3-151787.docx', '33203_CR0239_(Rel-13)_S3-151808 CR 33.203 WebRTC Scenario 4 v1.docx', 'C1-221266.docx', 'Cover.docx', 'CP-140405.docx', 'R4-160004.docx', 'RP-120826_LTE_CA_C_B1_Cover.docx', 'RP-130170_revisedWID_LTE_CA_B23_B29_Cover.docx', 'RP-130175 - Revised WID - LTE_CA_B2_B4-Cover.docx', 'RP-130179 - Updated WID LTE Advanced intra-band non-contiguous Carrier Aggregation in Band 25 (Cover) - clean.docx', 'RP-130179 - Updated WID LTE Advanced intra-band non-contiguous Carrier Aggregation in Band 25 (Cover).docx', 'RP-130181 Cover.docx', 'RP-130189_Revised_WID_CA_B3_B28(Cover).docx', 'RP-130197(Cover).docx', 'RP-130198(Cover).docx', 'RP-130396 - SID RAN enhancements for MTC.docx', 'RP-130668(Cover).docx', 'RP-130669(Cover).docx', 'RP-130813 Revised WID LTE_CA_NC_B7 (Cover).docx', 'RP-131135 - Revised WID - LTE_CA_NC_B4-Cover_v1.docx', 'RP-131136 - Revised WID - LTE_CA_NC_B4_2UL-Cover_v1.docx', 'RP-131159_cover.docx', 'RP-131184 LTE Advanced intra-band contiguous Carrier Aggregation in Band 3_cover.docx', 'RP-131237 - Revised WID - LTE_CA_NC_B41-2UL-Cover.docx', 'RP-131265_revisedWID_LTE_CA_C_B23_Cover.docx', 'RP-131354 - Cover.docx', 'RP-131355 - Cover.docx', 'RP-131656_New WID CA_B2_B4 BW set (Cover).docx', 'RP-131679 Updated WID for Intra-band contiguous CA in Band 27 for LTE (Cover) redlines.docx', 'RP-131700_revisedWID_LTE_CA_NC_B23_Cover.docx', 'RP-132028_LTE_CA_B1+B28_Cover.docx', 'RP-140142_Cover.docx', 'RP-140642_New WID CA_B2_B5 BW set (Cover).docx', 'RP-140963_Cover_B1+B41+B41.docx', 'RP-140964_Cover_B26+B41+B41.docx', 'RP-141195 Revised WID LTE_CA_2UL-A5 (Cover).docx']\n"
     ]
    }
   ],
   "source": [
    "print('finish craw', finish_crawler, 'files')\n",
    "\n",
    "print('==== invalid files: ', len(invalid_files), ' ====')\n",
    "print(invalid_files)"
   ]
  },
  {
   "cell_type": "code",
   "execution_count": 145,
   "id": "d3e56baf",
   "metadata": {},
   "outputs": [],
   "source": [
    "# df.to_excel('result.xlsx', encoding='utf_8_sig', index=False)"
   ]
  },
  {
   "cell_type": "markdown",
   "id": "6e2c945b",
   "metadata": {},
   "source": [
    "## 4. 補上WI ID，並檢視爬取失敗的檔案"
   ]
  },
  {
   "cell_type": "code",
   "execution_count": 5,
   "id": "387c34cf",
   "metadata": {},
   "outputs": [
    {
     "name": "stdout",
     "output_type": "stream",
     "text": [
      "總資料筆數: 45753\n"
     ]
    }
   ],
   "source": [
    "# df = pd.read_excel(\"final_result.xlsx\")\n",
    "print('總資料筆數:', len(df))"
   ]
  },
  {
   "cell_type": "code",
   "execution_count": 19,
   "id": "144ccef5",
   "metadata": {
    "scrolled": true
   },
   "outputs": [
    {
     "name": "stdout",
     "output_type": "stream",
     "text": [
      "45753\n",
      "['CP-140271.docx', 'CP-140450.docx', 'CP-183246_was CP-183129_New WID on enhancement of PCC related services.docx', 'RP-190213 revised WID_NR_clean.docx', 'RP-130416 WID - Support for BeiDou Navigation Satellite System (BDS) - Feature Part.docx', 'RP-130669_WID_CA_B1_B18_BWset(Performance).docx', 'RP-130221 Revised SID for Scalable UMTS FDD Bandwidth with trace.docx', 'RP-141037_AWS_EXT_v7.docx', 'RP-142202 B2_B4_B5_B30.docx', 'RP-160678 WID measurement gap enhancement_clean.docx', 'RP-160912.docx', 'RP-160954_clean.docx', 'RP-161291.docx', 'RP-161929_eLWIP-WID RAN3 v15.docx', 'RP-160210 above 6GHz_CM_revSID.docx', 'RP-162007 3.5GHz WID.docx', 'RP-172035 Revised TRP TRS WID RAN76_v1.docx', 'RP-171757 HPUE for B3 B20 B28 WID modified.docx', 'RP-193266 WI update no change marks.docx', 'RP-201253 Revised WID for NR CA_DC 2 band DL with up to 2 band UL_clean.docx', 'RP-213669 rev 3328 r2297_EPC UPIP WID_cln.docx', 'RP-223553.docx', 'RP-223529.docx', 'RP-223530.docx', 'RP-221481 Revised WID on UE conformance test aspects for R16 NR mobility enhancements_cl.docx', 'SP-130579_S4-131297_New_WID_on_Video_Coding_Enhancements_in_IMS_Messaging_and_Presence.docx', 'SP-110752_S2-113956-updated LOBSTER WID.docx', 'SP-130046 S5-130360 Revised WID HetNet Management_clean.docx', 'SP-110631_S2-113723_NWK-PL2IMS-clean.docx', 'SP-120848_S3-121111_rm.docx', 'SP-130044 S5-130358 - Update SI  completion date for  Networksharing cl.docx', 'SP-190247 Revised WID on Enhancement of performance assurance_cl.docx', 'SP-190713 Revised_SID_5GS_AUTH_cl.docx', 'SP-190929 was_SP-190726_New SID Study on Mission Critical services over 5G multicast-broadcast-clean.docx', 'SP-200399.docx', 'SP-200886_CL_e-mail_rev1_SP-200834_Revised_WID_on_Arch_EAP.docx']\n"
     ]
    }
   ],
   "source": [
    "import time\n",
    "invalid_name = []\n",
    "unique_ID = []\n",
    "\n",
    "for i in df.name:\n",
    "    try:\n",
    "        unique_ID.append(content[i]['Unique_ID'])\n",
    "    except KeyError:\n",
    "        time.sleep(0.2)\n",
    "        unique_ID.append(' ')\n",
    "        if df['file'].loc[df.name == i].iloc[0] not in invalid_name:\n",
    "            invalid_name.append(df['file'].loc[df.name == i].iloc[0])\n",
    "\n",
    "print(len(unique_ID))\n",
    "print(invalid_name)"
   ]
  },
  {
   "cell_type": "code",
   "execution_count": 23,
   "id": "3516e5e3",
   "metadata": {},
   "outputs": [],
   "source": [
    "df.insert(0, 'unique_ID', unique_ID)\n",
    "df.to_excel('result_with_id.xlsx', encoding='utf_8_sig', index=False)"
   ]
  }
 ],
 "metadata": {
  "kernelspec": {
   "display_name": "Python 3 (ipykernel)",
   "language": "python",
   "name": "python3"
  },
  "language_info": {
   "codemirror_mode": {
    "name": "ipython",
    "version": 3
   },
   "file_extension": ".py",
   "mimetype": "text/x-python",
   "name": "python",
   "nbconvert_exporter": "python",
   "pygments_lexer": "ipython3",
   "version": "3.10.9"
  }
 },
 "nbformat": 4,
 "nbformat_minor": 5
}
