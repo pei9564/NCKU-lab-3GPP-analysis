{
 "cells": [
  {
   "cell_type": "code",
   "execution_count": 1,
   "id": "5d93150f",
   "metadata": {},
   "outputs": [
    {
     "name": "stdout",
     "output_type": "stream",
     "text": [
      "8143\n",
      "59087\n"
     ]
    }
   ],
   "source": [
    "import pandas as pd\n",
    "import re\n",
    "\n",
    "WINDOW = 1\n",
    "IS_RAN = False\n",
    "\n",
    "overview_df = pd.read_excel(\"wi_overview_cleaned.xlsx\")\n",
    "overview_df['rapporteur'] = overview_df['rapporteur'].str.lower()\n",
    "supporter_df = pd.read_excel(\"supporter_overview.xlsx\")\n",
    "supporter_df['rapporteur'] = supporter_df['rapporteur'].str.lower()\n",
    "\n",
    "print(len(overview_df))\n",
    "print(len(supporter_df))"
   ]
  },
  {
   "cell_type": "code",
   "execution_count": 2,
   "id": "7e1af7e6",
   "metadata": {},
   "outputs": [
    {
     "name": "stdout",
     "output_type": "stream",
     "text": [
      "7420\n",
      "58832\n"
     ]
    }
   ],
   "source": [
    "overview_df['rapporteur'] = overview_df['rapporteur'].str.split(', ')\n",
    "overview_df = overview_df.explode('rapporteur')\n",
    "overview_df = overview_df.reset_index(drop=True)\n",
    "\n",
    "supporter_df['rapporteur'] = supporter_df['rapporteur'].str.split(', ')\n",
    "supporter_df = supporter_df.explode('rapporteur')\n",
    "supporter_df = supporter_df.reset_index(drop=True)\n",
    "\n",
    "overview_df.drop(overview_df[overview_df['rapporteur'].isna()].index, inplace=True)\n",
    "supporter_df.drop(supporter_df[supporter_df['rapporteur'].isna()].index, inplace=True)\n",
    "supporter_df.drop(supporter_df[supporter_df['supporting member'].isna()].index, inplace=True)\n",
    "overview_df.drop(overview_df[overview_df['rapporteur'] == '-'].index, inplace=True)\n",
    "supporter_df.drop(supporter_df[supporter_df['rapporteur'] == '-'].index, inplace=True)\n",
    "supporter_df.drop(supporter_df[supporter_df['supporting member'] == '-'].index, inplace=True)\n",
    "\n",
    "print(len(overview_df))\n",
    "print(len(supporter_df))"
   ]
  },
  {
   "cell_type": "code",
   "execution_count": 7,
   "id": "81a56bf2",
   "metadata": {
    "scrolled": true
   },
   "outputs": [
    {
     "data": {
      "text/html": [
       "<div>\n",
       "<style scoped>\n",
       "    .dataframe tbody tr th:only-of-type {\n",
       "        vertical-align: middle;\n",
       "    }\n",
       "\n",
       "    .dataframe tbody tr th {\n",
       "        vertical-align: top;\n",
       "    }\n",
       "\n",
       "    .dataframe thead th {\n",
       "        text-align: right;\n",
       "    }\n",
       "</style>\n",
       "<table border=\"1\" class=\"dataframe\">\n",
       "  <thead>\n",
       "    <tr style=\"text-align: right;\">\n",
       "      <th></th>\n",
       "      <th>unique_ID</th>\n",
       "      <th>release</th>\n",
       "      <th>ran</th>\n",
       "      <th>rapporteur</th>\n",
       "      <th>supporting member</th>\n",
       "    </tr>\n",
       "  </thead>\n",
       "  <tbody>\n",
       "    <tr>\n",
       "      <th>3</th>\n",
       "      <td>460001</td>\n",
       "      <td>Rel-12</td>\n",
       "      <td>N</td>\n",
       "      <td>ericsson</td>\n",
       "      <td>china mobile</td>\n",
       "    </tr>\n",
       "  </tbody>\n",
       "</table>\n",
       "</div>"
      ],
      "text/plain": [
       "   unique_ID release ran rapporteur supporting member\n",
       "3     460001  Rel-12   N   ericsson      china mobile"
      ]
     },
     "metadata": {},
     "output_type": "display_data"
    },
    {
     "data": {
      "text/html": [
       "<div>\n",
       "<style scoped>\n",
       "    .dataframe tbody tr th:only-of-type {\n",
       "        vertical-align: middle;\n",
       "    }\n",
       "\n",
       "    .dataframe tbody tr th {\n",
       "        vertical-align: top;\n",
       "    }\n",
       "\n",
       "    .dataframe thead th {\n",
       "        text-align: right;\n",
       "    }\n",
       "</style>\n",
       "<table border=\"1\" class=\"dataframe\">\n",
       "  <thead>\n",
       "    <tr style=\"text-align: right;\">\n",
       "      <th></th>\n",
       "      <th>Unique_ID</th>\n",
       "      <th>release</th>\n",
       "      <th>ran</th>\n",
       "      <th>sa</th>\n",
       "      <th>ct</th>\n",
       "      <th>rapporteur</th>\n",
       "      <th>WI rapporteur name</th>\n",
       "      <th>WI rapporteur e-mail</th>\n",
       "      <th>is_hyperlink</th>\n",
       "      <th>is_download</th>\n",
       "      <th>Impacted TSs and TRs</th>\n",
       "      <th>start</th>\n",
       "      <th>Created</th>\n",
       "      <th>last modif</th>\n",
       "      <th>finish</th>\n",
       "      <th>duration</th>\n",
       "      <th>is_complete</th>\n",
       "    </tr>\n",
       "  </thead>\n",
       "  <tbody>\n",
       "    <tr>\n",
       "      <th>0</th>\n",
       "      <td>2</td>\n",
       "      <td>Rel-6</td>\n",
       "      <td>Y</td>\n",
       "      <td>N</td>\n",
       "      <td>N</td>\n",
       "      <td>alcatel-lucent</td>\n",
       "      <td>alcatel</td>\n",
       "      <td>Francois Courau</td>\n",
       "      <td>N</td>\n",
       "      <td>N</td>\n",
       "      <td>-</td>\n",
       "      <td>2003-12-31</td>\n",
       "      <td>2003-10-02</td>\n",
       "      <td>2004-07-08</td>\n",
       "      <td>2003-12-31</td>\n",
       "      <td>0</td>\n",
       "      <td>Y</td>\n",
       "    </tr>\n",
       "  </tbody>\n",
       "</table>\n",
       "</div>"
      ],
      "text/plain": [
       "   Unique_ID release ran sa ct      rapporteur WI rapporteur name  \\\n",
       "0          2   Rel-6   Y  N  N  alcatel-lucent            alcatel   \n",
       "\n",
       "  WI rapporteur e-mail is_hyperlink is_download Impacted TSs and TRs  \\\n",
       "0      Francois Courau            N           N                    -   \n",
       "\n",
       "       start    Created last modif     finish  duration is_complete  \n",
       "0 2003-12-31 2003-10-02 2004-07-08 2003-12-31         0           Y  "
      ]
     },
     "metadata": {},
     "output_type": "display_data"
    }
   ],
   "source": [
    "display(supporter_df.head(1))\n",
    "display(overview_df.head(1))"
   ]
  },
  {
   "cell_type": "markdown",
   "id": "7f311562",
   "metadata": {},
   "source": [
    "## 1.1. Generate Dyad data (for Ucinet) - supporter to rapporteur"
   ]
  },
  {
   "cell_type": "code",
   "execution_count": 17,
   "id": "38c73df5",
   "metadata": {},
   "outputs": [],
   "source": [
    "dyad_all = supporter_df[['release', 'ran', 'supporting member', 'rapporteur']]\n",
    "\n",
    "if IS_RAN:\n",
    "    dyad_all.drop(dyad_all[dyad_all['ran'] == 'N'].index, inplace=True)\n",
    "\n",
    "for rel in range(12, (12 + 7 - WINDOW)):\n",
    "    result_dyads = pd.DataFrame()\n",
    "    \n",
    "    for win in range(WINDOW):\n",
    "        dyads = dyad_all[dyad_all['release'] == f'Rel-{rel + win}'][['supporting member', 'rapporteur']]\n",
    "        result_dyads = pd.concat([result_dyads, dyads])\n",
    "        \n",
    "    if WINDOW > 1:\n",
    "        result_dyads.to_excel(f'ucinet/dyad data/dyad_release_{rel}_to_{rel + WINDOW - 1}.xlsx', index=False)\n",
    "#         print(f'release_{rel}_to_{rel + WINDOW - 1}: {len(result_dyads)}')\n",
    "    else:\n",
    "        result_dyads.to_excel(f'ucinet/dyad data/dyad_release_{rel}.xlsx', index=False)\n",
    "#         print(f'release_{rel}: {len(result_dyads)}')"
   ]
  }
 ],
 "metadata": {
  "kernelspec": {
   "display_name": "Python 3 (ipykernel)",
   "language": "python",
   "name": "python3"
  },
  "language_info": {
   "codemirror_mode": {
    "name": "ipython",
    "version": 3
   },
   "file_extension": ".py",
   "mimetype": "text/x-python",
   "name": "python",
   "nbconvert_exporter": "python",
   "pygments_lexer": "ipython3",
   "version": "3.10.9"
  }
 },
 "nbformat": 4,
 "nbformat_minor": 5
}
